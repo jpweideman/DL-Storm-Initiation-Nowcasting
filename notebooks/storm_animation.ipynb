{
 "cells": [
  {
   "cell_type": "markdown",
   "metadata": {},
   "source": [
    "### Notebook example of the various storm animations"
   ]
  },
  {
   "cell_type": "code",
   "execution_count": null,
   "id": "ff8588af",
   "metadata": {},
   "outputs": [],
   "source": [
    "import numpy as np\n",
    "import matplotlib.pyplot as plt\n",
    "from pathlib import Path as PathlibPath\n",
    "import sys\n",
    "import matplotlib as mpl\n",
    "from IPython.display import HTML, display\n",
    "\n",
    "# Add the project root to the path\n",
    "current_dir = PathlibPath.cwd()\n",
    "project_root = current_dir.parent \n",
    "\n",
    "import os\n",
    "os.chdir(project_root)\n",
    "\n",
    "# Import the available functions\n",
    "from src.utils.storm_animation_utils import *"
   ]
  },
  {
   "cell_type": "code",
   "execution_count": null,
   "id": "423ff8b9",
   "metadata": {},
   "outputs": [],
   "source": [
    "predictions_dir = PathlibPath(\"predictions/unet3dcnn_example\")\n",
    "\n",
    "# Load metadata to get the correct shape\n",
    "preds_meta = np.load(predictions_dir / \"test_preds_dBZ_meta.npz\")\n",
    "true_meta = np.load(predictions_dir / \"test_targets_dBZ_meta.npz\")\n",
    "pred_shape = preds_meta['shape']\n",
    "true_shape = true_meta['shape']\n",
    "\n",
    "# Load memmap arrays with correct shape\n",
    "pred = np.memmap(predictions_dir / \"test_preds_dBZ.npy\", dtype='float32', mode='r', shape=pred_shape)\n",
    "true = np.memmap(predictions_dir / \"test_targets_dBZ.npy\", dtype='float32', mode='r', shape=true_shape)"
   ]
  },
  {
   "cell_type": "code",
   "execution_count": null,
   "id": "89c83507",
   "metadata": {},
   "outputs": [],
   "source": [
    "# Composite Reflectivity (Maximum Intensity Projection over altitude)\n",
    "# Taking the maximum along axis 1 (altitude dimension) returns a \n",
    "# flattened 2D array of the maximum reflectivity at each x,y point\n",
    "pred_composite_reflectivity = np.max(pred, axis=1)\n",
    "true_composite_reflectivity = np.max(true, axis=1)\n",
    "pred_composite_reflectivity.shape, true_composite_reflectivity.shape"
   ]
  },
  {
   "cell_type": "code",
   "execution_count": null,
   "id": "7c30ed3e",
   "metadata": {},
   "outputs": [],
   "source": [
    "ani = animate_storms(true_composite_reflectivity[:60])\n",
    "HTML(ani.to_jshtml())"
   ]
  },
  {
   "cell_type": "code",
   "execution_count": null,
   "id": "f6c52f04",
   "metadata": {},
   "outputs": [],
   "source": [
    "ani1 = animate_storms_polar(true_composite_reflectivity[:60])\n",
    "HTML(ani1.to_jshtml())"
   ]
  },
  {
   "cell_type": "code",
   "execution_count": null,
   "id": "a12eca5c",
   "metadata": {},
   "outputs": [],
   "source": [
    "ani2 = animate_storms_polar_comparison(true_composite_reflectivity[:60], pred_composite_reflectivity[:60])\n",
    "HTML(ani2.to_jshtml())"
   ]
  },
  {
   "cell_type": "code",
   "execution_count": null,
   "id": "305ce533",
   "metadata": {},
   "outputs": [],
   "source": [
    "ani3 = animate_new_storms(true_composite_reflectivity[:60])\n",
    "HTML(ani3.to_jshtml())"
   ]
  },
  {
   "cell_type": "code",
   "execution_count": null,
   "id": "7ca62ed2",
   "metadata": {},
   "outputs": [],
   "source": [
    "ani4 = animate_new_storms_with_wind(true_composite_reflectivity[:60], overlap_threshold=0.2, reflectivity_threshold=45, area_threshold_km2=10.0, \n",
    "                                dilation_iterations=5,  patch_size=32, patch_stride=16, patch_thresh=35.0, patch_frac=0.015, maxv=85.0)\n",
    "HTML(ani4.to_jshtml())"
   ]
  }
 ],
 "metadata": {
  "kernelspec": {
   "display_name": "base",
   "language": "python",
   "name": "python3"
  },
  "language_info": {
   "codemirror_mode": {
    "name": "ipython",
    "version": 3
   },
   "file_extension": ".py",
   "mimetype": "text/x-python",
   "name": "python",
   "nbconvert_exporter": "python",
   "pygments_lexer": "ipython3",
   "version": "3.12.9"
  }
 },
 "nbformat": 4,
 "nbformat_minor": 5
}
